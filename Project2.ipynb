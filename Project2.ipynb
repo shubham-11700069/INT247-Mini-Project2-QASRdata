{
 "cells": [
  {
   "cell_type": "markdown",
   "metadata": {},
   "source": [
    "***\n",
    "***\n",
    "## <font color=Black>Name: Shubham Garad &nbsp;&nbsp;&emsp;&emsp;&emsp;&emsp;&emsp;&emsp;&emsp;&emsp;&emsp;&emsp;&emsp;&emsp; Reg. No.: 11700069 <br>Roll No.: 62 &emsp;&emsp;&emsp;&emsp;&emsp;&emsp;&emsp;&emsp;&emsp;&emsp;&emsp;&emsp;&emsp;&emsp;&emsp;&emsp;&emsp;&emsp; Guided by: Sanjay Kumar Singh <br>Subject Code: INT247 </font>\n",
    "***\n",
    "<hr>"
   ]
  },
  {
   "cell_type": "markdown",
   "metadata": {},
   "source": [
    "<h1><font color=Green>&emsp;&emsp;&emsp;&emsp;&emsp;&emsp;&emsp;&emsp;&emsp;&emsp;Minor project 2 for Machine Learning </font></h1>\n",
    "***\n",
    "***"
   ]
  },
  {
   "attachments": {},
   "cell_type": "markdown",
   "metadata": {},
   "source": [
    " <h3> Dataset Name: <font color=#cca300>QSAR biodegradation Dataset</font> </h3>\n",
    " <h3> Dataset Url: 'https://archive.ics.uci.edu/ml/datasets/QSAR+biodegradation'</h3><br>\n",
    " \n",
    " "
   ]
  },
  {
   "cell_type": "markdown",
   "metadata": {},
   "source": [
    "  ***\n",
    "  - ### Abstract view of dataset\n",
    "  <img src = \"MinorProject2Dataset.png\", alt=\"Abstract view of dataset\", title= \"Dataset Abstracts\">\n",
    "  "
   ]
  },
  {
   "cell_type": "markdown",
   "metadata": {},
   "source": [
    "***\n",
    "<h1>QSAR biodegradation</h1>\n",
    "***"
   ]
  },
  {
   "cell_type": "markdown",
   "metadata": {},
   "source": [
    "### Data Set Information:\n",
    "\n",
    "**The QSAR biodegradation dataset was built in the Milano Chemometrics and QSAR Research Group (UniversitÃ  degli Studi Milano â€“ Bicocca, Milano, Italy). The research leading to these results has received funding from the European Communityâ€™s Seventh Framework Programme [FP7/2007-2013] under Grant Agreement n. 238701 of Marie Curie ITN Environmental Chemoinformatics (ECO) project.The data have been used to develop QSAR (Quantitative Structure Activity Relationships) models for the study of the relationships between chemical structure and biodegradation of molecules. Biodegradation experimental values of 1055 chemicals were collected from the webpage of the National Institute of Technology and Evaluation of Japan (NITE). Classification models were developed in order to discriminate ready (356) and not ready (699) biodegradable molecules by means of three different modelling methods: k Nearest Neighbours, Partial Least Squares Discriminant Analysis and Support Vector Machines. Details on attributes (molecular descriptors) selected in each model can be found in the quoted reference: Mansouri, K., Ringsted, T., Ballabio, D., Todeschini, R., Consonni, V. (2013). Quantitative Structure - Activity Relationship models for ready biodegradability of chemicals. Journal of Chemical Information and Modeling, 53, 867-878. **"
   ]
  },
  {
   "cell_type": "markdown",
   "metadata": {},
   "source": [
    "***\n",
    "### Abstract: Data set containing values for 41 attributes (molecular descriptors) \n",
    "&emsp;&emsp;&emsp;&emsp;&emsp;**used to classify 1055 chemicals into 2 classes (ready and not ready biodegradable)**"
   ]
  },
  {
   "cell_type": "markdown",
   "metadata": {},
   "source": [
    "### Attribute Information:\n",
    "\n",
    "**41 molecular descriptors and 1 experimental class:**\n",
    "\n",
    "&emsp;&emsp;&emsp;&emsp;&emsp;<span style=\"font-family:Bebas Neue; font-size:1.2em;\" >\n",
    "1) SpMax_L: Leading eigenvalue from Laplace matrix <br>&emsp;&emsp;&emsp;&emsp;&emsp;\n",
    "2) J_Dz(e): Balaban-like index from Barysz matrix weighted by Sanderson electronegativity <br>&emsp;&emsp;&emsp;&emsp;&emsp;\n",
    "3) nHM: Number of heavy atoms <br>&emsp;&emsp;&emsp;&emsp;&emsp;\n",
    "4) F01[N-N]: Frequency of N-N at topological distance 1 <br>&emsp;&emsp;&emsp;&emsp;&emsp;\n",
    "5) F04[C-N]: Frequency of C-N at topological distance 4 <br>&emsp;&emsp;&emsp;&emsp;&emsp;\n",
    "6) NssssC: Number of atoms of type ssssC <br>&emsp;&emsp;&emsp;&emsp;&emsp;\n",
    "7) nCb-: Number of substituted benzene C(sp2) <br>&emsp;&emsp;&emsp;&emsp;&emsp;\n",
    "8) C%: Percentage of C atoms <br>&emsp;&emsp;&emsp;&emsp;&emsp;\n",
    "9) nCp: Number of terminal primary C(sp3)<br>&emsp;&emsp;&emsp;&emsp;&emsp;\n",
    "10) nO: Number of oxygen atoms <br>&emsp;&emsp;&emsp;&emsp;&emsp;\n",
    "11) F03[C-N]: Frequency of C-N at topological distance 3 <br>&emsp;&emsp;&emsp;&emsp;&emsp;\n",
    "12) SdssC: Sum of dssC E-states <br>&emsp;&emsp;&emsp;&emsp;&emsp;\n",
    "13) HyWi_B(m): Hyper-Wiener-like index (log function) from Burden matrix weighted by mass <br>&emsp;&emsp;&emsp;&emsp;&emsp;\n",
    "14) LOC: Lopping centric index <br>&emsp;&emsp;&emsp;&emsp;&emsp;\n",
    "15) SM6_L: Spectral moment of order 6 from Laplace matrix <br>&emsp;&emsp;&emsp;&emsp;&emsp;\n",
    "16) F03[C-O]: Frequency of C - O at topological distance 3 <br>&emsp;&emsp;&emsp;&emsp;&emsp;\n",
    "17) Me: Mean atomic Sanderson electronegativity (scaled on Carbon atom) <br>&emsp;&emsp;&emsp;&emsp;&emsp;\n",
    "18) Mi: Mean first ionization potential (scaled on Carbon atom) <br>&emsp;&emsp;&emsp;&emsp;&emsp;\n",
    "19) nN-N: Number of N hydrazines <br>&emsp;&emsp;&emsp;&emsp;&emsp;\n",
    "20) nArNO2: Number of nitro groups (aromatic) <br>&emsp;&emsp;&emsp;&emsp;&emsp;\n",
    "21) nCRX3: Number of CRX3 <br>&emsp;&emsp;&emsp;&emsp;&emsp;\n",
    "22) SpPosA_B(p): Normalized spectral positive sum from Burden matrix weighted by polarizability <br>&emsp;&emsp;&emsp;&emsp;&emsp;\n",
    "23) nCIR: Number of circuits <br>&emsp;&emsp;&emsp;&emsp;&emsp;\n",
    "24) B01[C-Br]: Presence/absence of C - Br at topological distance 1 <br>&emsp;&emsp;&emsp;&emsp;&emsp;\n",
    "25) B03[C-Cl]: Presence/absence of C - Cl at topological distance 3 <br>&emsp;&emsp;&emsp;&emsp;&emsp;\n",
    "26) N-073: Ar2NH / Ar3N / Ar2N-Al / R..N..R <br>&emsp;&emsp;&emsp;&emsp;&emsp;\n",
    "27) SpMax_A: Leading eigenvalue from adjacency matrix (Lovasz-Pelikan index) <br>&emsp;&emsp;&emsp;&emsp;&emsp;\n",
    "28) Psi_i_1d: Intrinsic state pseudoconnectivity index - type 1d <br>&emsp;&emsp;&emsp;&emsp;&emsp;\n",
    "29) B04[C-Br]: Presence/absence of C - Br at topological distance 4 <br>&emsp;&emsp;&emsp;&emsp;&emsp;\n",
    "30) SdO: Sum of dO E-states <br>&emsp;&emsp;&emsp;&emsp;&emsp;\n",
    "31) TI2_L: Second Mohar index from Laplace matrix <br>&emsp;&emsp;&emsp;&emsp;&emsp;\n",
    "32) nCrt: Number of ring tertiary C(sp3) <br>&emsp;&emsp;&emsp;&emsp;&emsp;\n",
    "33) C-026: R--CX--R <br>&emsp;&emsp;&emsp;&emsp;&emsp;\n",
    "34) F02[C-N]: Frequency of C - N at topological distance 2 <br>&emsp;&emsp;&emsp;&emsp;&emsp;\n",
    "35) nHDon: Number of donor atoms for H-bonds (N and O) <br>&emsp;&emsp;&emsp;&emsp;&emsp;\n",
    "36) SpMax_B(m): Leading eigenvalue from Burden matrix weighted by mass <br>&emsp;&emsp;&emsp;&emsp;&emsp;\n",
    "37) Psi_i_A: Intrinsic state pseudoconnectivity index - type S average <br>&emsp;&emsp;&emsp;&emsp;&emsp;\n",
    "38) nN: Number of Nitrogen atoms <br>&emsp;&emsp;&emsp;&emsp;&emsp;\n",
    "39) SM6_B(m): Spectral moment of order 6 from Burden matrix weighted by mass <br>&emsp;&emsp;&emsp;&emsp;&emsp;\n",
    "40) nArCOOR: Number of esters (aromatic) <br>&emsp;&emsp;&emsp;&emsp;&emsp;\n",
    "41) nX: Number of halogen atoms <br>&emsp;&emsp;&emsp;&emsp;&emsp;\n",
    "42) experimental class: ready biodegradable (RB) and not ready biodegradable (NRB) <br>&emsp;&emsp;&emsp;&emsp;&emsp;</span>"
   ]
  },
  {
   "cell_type": "markdown",
   "metadata": {},
   "source": [
    "  ***\n",
    "<h3>*Task*:<br><font color=#11db54>&emsp;&emsp;&emsp;&emsp;&emsp; Preparing data (Feature Identification) [5]<br>&emsp;&emsp;&emsp;&emsp;&emsp;Choosing a model (Comparative study min. 3 model) [10]<br>&emsp;&emsp;&emsp;&emsp;&emsp;Training (Reiterating for optimization) [10]<br> &emsp;&emsp;&emsp;&emsp;&emsp;Evaluation (Highest accuracy with confusion matrix) [30]<br>&emsp;&emsp;&emsp;&emsp;&emsp;Hyperparameter tuning [20]<br>&emsp;&emsp;&emsp;&emsp;&emsp;Prediction on unknown data [10]<br>&emsp;&emsp;&emsp;&emsp;&emsp;Report/presentation [15]<br>&emsp;&emsp;&emsp;&emsp;&emsp;Total [100]</font></h3>\n",
    "***"
   ]
  },
  {
   "cell_type": "code",
   "execution_count": 79,
   "metadata": {
    "scrolled": true
   },
   "outputs": [],
   "source": [
    "import numpy as np\n",
    "import pandas as pd\n",
    "\n",
    "'''df=pd.read_excel('delimitedEasytoRead.xlsx')\n",
    "#df = pd.read_csv('biodeg.csv', delimiter=';')\n",
    "labels={'NRB':0,'RB':1}\n",
    "df.iloc[:,41]=df.iloc[:,41].map(labels)\n",
    "print(df.iloc[:,41])\n",
    "df.to_csv('labelmapped.csv')'''\n",
    "df=pd.read_csv('labelmapped.csv')\n"
   ]
  },
  {
   "cell_type": "code",
   "execution_count": 2,
   "metadata": {},
   "outputs": [
    {
     "name": "stdout",
     "output_type": "stream",
     "text": [
      "rows :  1055\n",
      "cols :  42\n",
      "total no. of classes :  2\n",
      "Number of records per class : NRB    699\n",
      "RB     356\n",
      "Name: experimental class, dtype: int64\n"
     ]
    }
   ],
   "source": [
    "#print(df.describe())\n",
    "print(\"rows : \", df.shape[0])\n",
    "print(\"cols : \", df.shape[1])\n",
    "#print('total no. of classes : ', len(np.unique(df.iloc[:,4].values)))\n",
    "print('total no. of classes : ', df.iloc[:,-1].nunique())\n",
    "print(\"Number of records per class :\",df.iloc[:, -1].map({0:'NRB',1:'RB'}).value_counts())\n",
    "#print('class labels: ', df.columns)\n",
    "#print(df.head())\n",
    "#print(df.tail())"
   ]
  },
  {
   "cell_type": "code",
   "execution_count": 104,
   "metadata": {},
   "outputs": [
    {
     "name": "stdout",
     "output_type": "stream",
     "text": [
      "Total null values : \n",
      " SpMax_L               0\n",
      "J_Dz€                 0\n",
      "nHM                   0\n",
      "F01[N-N]              0\n",
      "F04[C-N]              0\n",
      "NssssC                0\n",
      "nCb                   0\n",
      "C%                    0\n",
      "nCp                   0\n",
      "nO                    0\n",
      "F03[C-N]              0\n",
      "SdssC                 0\n",
      "HyWi_B(m)             0\n",
      "LOC                   0\n",
      "SM6_L                 0\n",
      "F03[C-O]              0\n",
      "Me                    0\n",
      "Mi                    0\n",
      "nN-N                  0\n",
      "nArNO2                0\n",
      "nCRX3                 0\n",
      "SpPosA_B(p)           0\n",
      "nCIR                  0\n",
      "B01[C-Br]             0\n",
      "B03[C-Cl]             0\n",
      "N-073                 0\n",
      "SpMax_A               0\n",
      "Psi_i_1d              0\n",
      "B04[C-Br]             0\n",
      "SdO                   0\n",
      "TI2_L                 0\n",
      "nCrt                  0\n",
      "C-026                 0\n",
      "F02[C-N]              0\n",
      "nHDon                 0\n",
      "SpMax_B(m)            0\n",
      "Psi_i_A               0\n",
      "nN                    0\n",
      "SM6_B(m)              0\n",
      "nArCOOR               0\n",
      "nX                    0\n",
      "experimental class    0\n",
      "dtype: int64\n"
     ]
    }
   ],
   "source": [
    "#print(\"Total null values : \\n\",df.isnull().sum())"
   ]
  },
  {
   "cell_type": "code",
   "execution_count": 9,
   "metadata": {},
   "outputs": [
    {
     "data": {
      "image/png": "[encoded data removed]",
      "text/plain": [
       "<Figure size 432x288 with 1 Axes>"
      ]
     },
     "metadata": {},
     "output_type": "display_data"
    }
   ],
   "source": [
    "import matplotlib.pyplot as plt\n",
    "size=[699,356] #values per class\n",
    "label='NRB','RB'\n",
    "plt.pie(size,labels=label,colors=['red','blue'],explode=[0.05,0.04], autopct='%.2f%%',startangle=90)\n",
    "#plt.axis('off')\n",
    "plt.legend()\n",
    "plt.show()\n"
   ]
  },
  {
   "cell_type": "code",
   "execution_count": 105,
   "metadata": {},
   "outputs": [],
   "source": [
    "y=df.iloc[:,-1] #target\n",
    "X=df.iloc[:,:-1] #input\n",
    "#print(X.shape)\n",
    "\n",
    "from sklearn.model_selection import train_test_split\n",
    "X_train,X_test,y_train,y_test=train_test_split(X,y,test_size=0.3,random_state=0)"
   ]
  },
  {
   "cell_type": "code",
   "execution_count": 118,
   "metadata": {},
   "outputs": [
    {
     "name": "stdout",
     "output_type": "stream",
     "text": [
      " 1) [36] SpMax_B(m)                     0.087265\n",
      " 2) [22] SpPosA_B(p)                    0.074442\n",
      " 3) [39] SM6_B(m)                       0.072316\n",
      " 4) [1] SpMax_L                        0.066683\n",
      " 5) [27] SpMax_A                        0.053012\n",
      " 6) [12] SdssC                          0.037160\n",
      " 7) [15] SM6_L                          0.034792\n",
      " 8) [13] HyWi_B(m)                      0.034143\n",
      " 9) [37] Psi_i_A                        0.031621\n",
      "10) [14] LOC                            0.031547\n",
      "11) [18] Mi                             0.031249\n",
      "12) [38] nN                             0.030977\n",
      "13) [34] F02[C-N]                       0.030900\n",
      "14) [30] SdO                            0.029395\n",
      "15) [8] C%                             0.027770\n",
      "16) [10] nO                             0.027522\n",
      "17) [2] J_Dz€                          0.027428\n",
      "18) [31] TI2_L                          0.026605\n",
      "19) [17] Me                             0.025926\n",
      "20) [33] C-026                          0.020166\n",
      "21) [16] F03[C-O]                       0.019904\n",
      "22) [3] nHM                            0.019517\n",
      "23) [28] Psi_i_1d                       0.018185\n",
      "24) [9] nCp                            0.017601\n",
      "25) [40] nArCOOR                        0.016005\n",
      "26) [11] F03[C-N]                       0.015001\n",
      "27) [7] nCb                            0.014156\n",
      "28) [5] F04[C-N]                       0.014118\n",
      "29) [6] NssssC                         0.013538\n",
      "30) [41] nX                             0.012974\n",
      "31) [23] nCIR                           0.009887\n",
      "32) [35] nHDon                          0.009680\n",
      "33) [32] nCrt                           0.006374\n",
      "34) [20] nArNO2                         0.003497\n",
      "35) [4] F01[N-N]                       0.003326\n",
      "36) [25] B03[C-Cl]                      0.002900\n",
      "37) [19] nN-N                           0.000892\n",
      "38) [26] N-073                          0.000670\n",
      "39) [24] B01[C-Br]                      0.000357\n",
      "40) [21] nCRX3                          0.000289\n",
      "41) [29] B04[C-Br]                      0.000211\n",
      "[ True  True  True False  True  True  True  True  True  True  True  True\n",
      "  True  True  True  True  True  True False False False  True False False\n",
      " False False  True  True False  True  True False  True  True False  True\n",
      "  True  True  True  True  True]\n"
     ]
    }
   ],
   "source": [
    "from sklearn.ensemble import RandomForestClassifier\n",
    "from numpy.core.umath_tests import inner1d\n",
    "\n",
    "forest=RandomForestClassifier(n_estimators= 100, random_state=0,n_jobs=1)\n",
    "forest.fit(X_train, y_train)\n",
    "\n",
    "feat_labels=df.columns[:-1]\n",
    "importances=forest.feature_importances_\n",
    "#print(importances)\n",
    "indices=np.argsort(importances)[::-1]\n",
    "#print(indices)\n",
    "for f in range(X_train.shape[1]):\n",
    "    print('%2d) [%d] %-*s %f' %(f+1,indices[f]+1,30,feat_labels[indices[f]],importances[indices[f]]))\n",
    "\n",
    "    \n",
    "\n",
    "#print(importances[indices[[f for f in range (X_train.shape[1]) if importances[indices[f]]>0.01]]])\n",
    "#print(importances >0.01)\n"
   ]
  },
  {
   "cell_type": "code",
   "execution_count": 119,
   "metadata": {},
   "outputs": [
    {
     "data": {
      "image/png": "[encoded data removed]",
      "text/plain": [
       "<Figure size 432x288 with 1 Axes>"
      ]
     },
     "metadata": {
      "needs_background": "light"
     },
     "output_type": "display_data"
    }
   ],
   "source": [
    "plt.figure()\n",
    "\n",
    "plt.hist(indices+1,\n",
    "         bins=len(indices), histtype='bar', align='mid', rwidth=0.8, color='red',\n",
    "         weights=sorted(importances)[::-1],orientation='vertical')\n",
    "plt.grid()\n",
    "plt.show()"
   ]
  },
  {
   "cell_type": "code",
   "execution_count": 71,
   "metadata": {},
   "outputs": [
    {
     "name": "stdout",
     "output_type": "stream",
     "text": [
      "[-0.34407951  0.20994091  0.18878509 -0.15328033 -0.40404589 -0.2695128\n",
      "  0.17236073  1.00298797 -0.70182885 -0.44335984 -0.4429562   0.26869516\n",
      " -0.4416483  -0.61258752 -0.42775261 -0.35493586  0.2004262  -0.75828573\n",
      " -0.08259106 -0.23943662 -0.14019641  0.62569293 -0.07463907 -0.19487094\n",
      "  2.41522946 -0.17746717 -0.1861237   0.282967   -0.15811388 -0.74572732\n",
      " -0.74456623 -0.20541169  0.72404727 -0.55363213  0.01155095 -0.03008791\n",
      "  0.16965153 -0.62054087 -0.11621975 -0.17019462  0.11138005]\n"
     ]
    }
   ],
   "source": [
    "from sklearn.preprocessing import StandardScaler\n",
    "sc=StandardScaler()\n",
    "sc.fit(X_train)\n",
    "X_train_std=sc.transform(X_train)\n",
    "X_test_std=sc.transform(X_test) ## for test set1\n",
    "#print(X_train_std)\n",
    "#print(X_test_std)\n"
   ]
  },
  {
   "cell_type": "code",
   "execution_count": 121,
   "metadata": {},
   "outputs": [],
   "source": [
    "#dictionary for storing accuracies for different models\n",
    "\n",
    "acc={}"
   ]
  },
  {
   "cell_type": "code",
   "execution_count": 123,
   "metadata": {},
   "outputs": [
    {
     "name": "stdout",
     "output_type": "stream",
     "text": [
      "Accuracy of SVM for 'non standardized' data for test set with C=1 : '0.85' \n",
      "Accuracy of SVM for 'standardized' data for test set with C=1 : '0.86' \n"
     ]
    }
   ],
   "source": [
    "from sklearn.svm import SVC\n",
    "from sklearn.metrics import accuracy_score\n",
    "svm=SVC(kernel='linear',C=1, random_state=1)\n",
    "\n",
    "svm.fit(X_train,y_train) # for non standard data\n",
    "y_pred=svm.predict(X_test)  ## predicting for test set \n",
    "acc['SVM_nstd']=accuracy_score(y_pred,y_test)\n",
    "print(\"Accuracy of SVM for 'non standardized' data for test set with C=1 : '%.2f' \"%acc['SVM_nstd'])\n",
    "\n",
    "svm.fit(X_train_std,y_train) # for standard data\n",
    "y_pred_std=svm.predict(X_test_std) ## predicting for test set\n",
    "acc['SVM_std']=accuracy_score(y_pred_std,y_test)\n",
    "print(\"Accuracy of SVM for 'standardized' data for test set with C=1 : '%.2f' \"%acc['SVM_std'])\n"
   ]
  },
  {
   "cell_type": "code",
   "execution_count": 129,
   "metadata": {},
   "outputs": [
    {
     "name": "stdout",
     "output_type": "stream",
     "text": [
      "Accuracy of 'logistic regression' for 'non standardized' data for test set : '0.86 '\n",
      "Accuracy of 'logistic regression' for 'standardized' data for test set : '0.85 '\n"
     ]
    }
   ],
   "source": [
    "# Without penalty\n",
    "from sklearn.linear_model import LogisticRegression\n",
    "model=LogisticRegression()\n",
    "\n",
    "\n",
    "model.fit(X_train,y_train)\n",
    "y_pred=model.predict(X_test)\n",
    "acc['LR_nstd']=accuracy_score(y_pred,y_test)\n",
    "print(\"Accuracy of 'logistic regression' for 'non standardized' data for test set : '%.2f '\"%acc['LR_nstd'])\n",
    "\n",
    "model.fit(X_train_std,y_train)\n",
    "y_pred_std=model.predict(X_test_std)\n",
    "acc['LR_std']=accuracy_score(y_pred_std,y_test)\n",
    "print(\"Accuracy of 'logistic regression' for 'standardized' data for test set : '%.2f '\" %acc['LR_std'])\n"
   ]
  },
  {
   "cell_type": "code",
   "execution_count": 130,
   "metadata": {},
   "outputs": [
    {
     "name": "stdout",
     "output_type": "stream",
     "text": [
      "Accuracy of 'logistic regression' for 'non standardized' data for test set : '0.86 '\n",
      "Accuracy of 'logistic regression' for 'standardized' data for test set : '0.85 '\n"
     ]
    }
   ],
   "source": [
    "##with penalty\n",
    "\n",
    "model=LogisticRegression(penalty='l2')\n",
    "\n",
    "model.fit(X_train,y_train)\n",
    "y_pred=model.predict(X_test)\n",
    "acc['LR_penalty_nstd']=model.score(X_test,y_test)\n",
    "print(\"Accuracy of 'logistic regression' for 'non standardized' data for test set : '%.2f '\" % acc['LR_penalty_nstd'])\n",
    "\n",
    "\n",
    "model.fit(X_train_std,y_train)\n",
    "y_pred_std=model.predict(X_test_std)\n",
    "acc['LR_penalty_std']=model.score(X_test_std,y_test)\n",
    "print(\"Accuracy of 'logistic regression' for 'standardized' data for test set : '%.2f '\" %acc['LR_penalty_std'])\n"
   ]
  },
  {
   "cell_type": "code",
   "execution_count": 131,
   "metadata": {},
   "outputs": [
    {
     "name": "stdout",
     "output_type": "stream",
     "text": [
      "misclassified samples : 67\n",
      "Accuracy of 'KNN' for 'non standardized' data for test set : '0.79 '\n",
      "Accuracy by knn.score : 0.842818\n",
      "misclassified samples : 49\n",
      "Accuracy of 'KNN' for 'standardized' data for test set : '0.85 '\n",
      "Accuracy by knn.score : 0.879404\n"
     ]
    }
   ],
   "source": [
    "from sklearn.neighbors import KNeighborsClassifier\n",
    "knn=KNeighborsClassifier(n_neighbors=10, p=2, metric='minkowski')  # p=2 for euclidean distance & p=1 for manhatten distance\n",
    "\n",
    "knn.fit(X_train,y_train)\n",
    "y_pred=knn.predict(X_test)\n",
    "acc['KNN_nstd']=accuracy_score(y_test,y_pred)\n",
    "print(\"misclassified samples : %d\"%(y_test != y_pred).sum())\n",
    "print(\"Accuracy of 'KNN' for 'non standardized' data for test set : '%.2f '\" %acc['KNN_nstd'])\n",
    "print(\"Accuracy by knn.score : %f\"%knn.score(X_train,y_train))\n",
    "\n",
    "\n",
    "knn.fit(X_train_std,y_train)\n",
    "y_pred_std=knn.predict(X_test_std)\n",
    "acc['KNN_std']=accuracy_score(y_test,y_pred_std)\n",
    "print(\"misclassified samples : %d\"%(y_test != y_pred_std).sum())\n",
    "print(\"Accuracy of 'KNN' for 'standardized' data for test set : '%.2f '\" %acc['KNN_std'])\n",
    "print(\"Accuracy by knn.score : %f\"%knn.score(X_train_std,y_train))\n"
   ]
  },
  {
   "cell_type": "code",
   "execution_count": 132,
   "metadata": {},
   "outputs": [
    {
     "name": "stdout",
     "output_type": "stream",
     "text": [
      "misclassified samples : 107\n",
      "Accuracy of 'Guasian Naive Bayes' for 'non standardized' data for test set : '0.66 '\n",
      "misclassified samples : 121\n",
      "Accuracy of 'Guasian Naive Bayes' for 'standardized' data for test set : '0.62 '\n"
     ]
    }
   ],
   "source": [
    "from sklearn.naive_bayes import GaussianNB\n",
    "gnb=GaussianNB(priors=None)\n",
    "\n",
    "gnb.fit(X_train, y_train)\n",
    "y_pred=gnb.predict(X_test)\n",
    "acc['GNB_nstd']=accuracy_score(y_test,y_pred)\n",
    "print(\"misclassified samples : %d\"%(y_test != y_pred).sum())\n",
    "print(\"Accuracy of 'Guasian Naive Bayes' for 'non standardized' data for test set : '%.2f '\" %acc['GNB_nstd'])\n",
    "\n",
    "\n",
    "gnb.fit(X_train_std, y_train)\n",
    "y_pred_std=gnb.predict(X_test_std)\n",
    "acc['GNB_std']=accuracy_score(y_test,y_pred_std)\n",
    "print(\"misclassified samples : %d\"%(y_test != y_pred_std).sum())\n",
    "print(\"Accuracy of 'Guasian Naive Bayes' for 'standardized' data for test set : '%.2f '\" %acc['GNB_std'])"
   ]
  },
  {
   "cell_type": "code",
   "execution_count": 148,
   "metadata": {},
   "outputs": [
    {
     "name": "stdout",
     "output_type": "stream",
     "text": [
      "[0.8548895899053628, 0.861198738170347, 0.8580441640378549, 0.8517350157728707, 0.8580441640378549, 0.8517350157728707, 0.7886435331230284, 0.8454258675078864, 0.6624605678233438, 0.6182965299684543]\n"
     ]
    }
   ],
   "source": [
    "print(list(acc.values()))"
   ]
  },
  {
   "cell_type": "code",
   "execution_count": 221,
   "metadata": {},
   "outputs": [
    {
     "data": {
      "image/png": "[encoded data removed]",
      "text/plain": [
       "<Figure size 432x288 with 1 Axes>"
      ]
     },
     "metadata": {
      "needs_background": "light"
     },
     "output_type": "display_data"
    }
   ],
   "source": [
    "plt.figure()\n",
    "\n",
    "N,bins,patches = plt.hist(acc.keys(), weights=list(acc.values()),\n",
    "         bins=len(acc.keys()), histtype='bar', align='mid', rwidth=0.5,orientation='vertical')\n",
    "\n",
    "fracs = list(acc.values())\n",
    "# Now, we'll loop through our objects and set the color of each accordingly\n",
    "for thisfrac, thispatch in zip(fracs, patches):\n",
    "    color = plt.cm.viridis(thisfrac)\n",
    "    thispatch.set_facecolor(color)\n",
    "    \n",
    "\n",
    "plt.xticks(rotation=90)\n",
    "\n",
    "plt.plot(list(acc)[list(acc.values()).index(max(list(acc.values())))],max(list(acc.values())),'ro-')\n",
    "plt.axis([0,9,0.6,0.9])\n",
    "plt.grid()\n",
    "plt.show()"
   ]
  },
  {
   "cell_type": "code",
   "execution_count": 92,
   "metadata": {},
   "outputs": [
    {
     "name": "stdout",
     "output_type": "stream",
     "text": [
      "[[199  20]\n",
      " [ 25  73]]\n",
      "             precision    recall  f1-score   support\n",
      "\n",
      "          0       0.89      0.91      0.90       219\n",
      "          1       0.78      0.74      0.76        98\n",
      "\n",
      "avg / total       0.86      0.86      0.86       317\n",
      "\n"
     ]
    }
   ],
   "source": [
    "from sklearn.metrics import confusion_matrix\n",
    "cmat=confusion_matrix(y_pred,y_test)\n",
    "print(cmat)\n",
    "\n",
    "from sklearn.metrics import classification_report\n",
    "clmat=classification_report(y_pred,y_test)\n",
    "print(clmat)\n"
   ]
  }
 ],
 "metadata": {
  "kernelspec": {
   "display_name": "Python 3",
   "language": "python",
   "name": "python3"
  },
  "language_info": {
   "codemirror_mode": {
    "name": "ipython",
    "version": 3
   },
   "file_extension": ".py",
   "mimetype": "text/x-python",
   "name": "python",
   "nbconvert_exporter": "python",
   "pygments_lexer": "ipython3",
   "version": "3.6.4"
  }
 },
 "nbformat": 4,
 "nbformat_minor": 2
}
